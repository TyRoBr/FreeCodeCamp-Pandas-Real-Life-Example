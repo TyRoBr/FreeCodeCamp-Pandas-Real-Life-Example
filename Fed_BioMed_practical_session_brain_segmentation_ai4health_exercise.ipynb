{
  "nbformat": 4,
  "nbformat_minor": 0,
  "metadata": {
    "colab": {
      "provenance": [],
      "toc_visible": true,
      "include_colab_link": true
    },
    "kernelspec": {
      "name": "python3",
      "display_name": "Python 3"
    },
    "language_info": {
      "name": "python"
    }
  },
  "cells": [
    {
      "cell_type": "markdown",
      "metadata": {
        "id": "view-in-github",
        "colab_type": "text"
      },
      "source": [
        "<a href=\"https://colab.research.google.com/github/TyRoBr/FreeCodeCamp-Pandas-Real-Life-Example/blob/master/Fed_BioMed_practical_session_brain_segmentation_ai4health_exercise.ipynb\" target=\"_parent\"><img src=\"https://colab.research.google.com/assets/colab-badge.svg\" alt=\"Open In Colab\"/></a>"
      ]
    },
    {
      "cell_type": "markdown",
      "source": [
        "# Environment setup"
      ],
      "metadata": {
        "id": "C4qAaTmYnc-e"
      }
    },
    {
      "cell_type": "markdown",
      "source": [
        "First we install some additional packages that are required by the tutorial but not included in Fed-BioMed"
      ],
      "metadata": {
        "id": "g_SxOyzWIPDU"
      }
    },
    {
      "cell_type": "code",
      "source": [
        "%pip install -q tqdm colab-xterm \"jedi>=0.16\""
      ],
      "metadata": {
        "id": "y4T_64HJtog5",
        "outputId": "2b9ccf70-3efb-4957-d410-586746a443c8",
        "colab": {
          "base_uri": "https://localhost:8080/"
        }
      },
      "execution_count": 1,
      "outputs": [
        {
          "output_type": "stream",
          "name": "stdout",
          "text": [
            "\u001b[?25l   \u001b[90m━━━━━━━━━━━━━━━━━━━━━━━━━━━━━━━━━━━━━━━━\u001b[0m \u001b[32m0.0/115.6 kB\u001b[0m \u001b[31m?\u001b[0m eta \u001b[36m-:--:--\u001b[0m\r\u001b[2K   \u001b[90m━━━━━━━━━━━━━━━━━━━━━━━━━━━━━━━━━━━━━━━━\u001b[0m \u001b[32m115.6/115.6 kB\u001b[0m \u001b[31m5.9 MB/s\u001b[0m eta \u001b[36m0:00:00\u001b[0m\n",
            "\u001b[?25h\u001b[?25l   \u001b[90m━━━━━━━━━━━━━━━━━━━━━━━━━━━━━━━━━━━━━━━━\u001b[0m \u001b[32m0.0/1.6 MB\u001b[0m \u001b[31m?\u001b[0m eta \u001b[36m-:--:--\u001b[0m\r\u001b[2K   \u001b[90m━━━━━━━━━━━━━━━━━━━━━━━━━━━━━━━━━━━━━━━━\u001b[0m \u001b[32m1.6/1.6 MB\u001b[0m \u001b[31m48.8 MB/s\u001b[0m eta \u001b[36m0:00:00\u001b[0m\n",
            "\u001b[?25h"
          ]
        }
      ]
    },
    {
      "cell_type": "markdown",
      "source": [
        "## Install Fed-BioMed\n",
        "Fed-BioMed can be installed via pip\n",
        "```shell\n",
        "pip install fedbiomed\n",
        "```\n",
        "\n",
        "However, for the purposes of this tutorial, we have created a specific python wheel that better supports integration with Google Colab. First, download the wheel file."
      ],
      "metadata": {
        "id": "DlkTmuTxkcwW"
      }
    },
    {
      "cell_type": "code",
      "source": [
        "!wget 'https://docs.google.com/uc?export=download&id=1R8P5GcAsNQZDPy2ucmixkzd4huFpKvCR' -O fedbiomed-6.1.0-py3-none-any.whl"
      ],
      "metadata": {
        "id": "vsz4qUWjHgJC",
        "outputId": "65b5ff27-8d13-4032-e2aa-2c1884cf056f",
        "colab": {
          "base_uri": "https://localhost:8080/"
        }
      },
      "execution_count": 2,
      "outputs": [
        {
          "output_type": "stream",
          "name": "stdout",
          "text": [
            "--2025-07-03 12:06:15--  https://docs.google.com/uc?export=download&id=1R8P5GcAsNQZDPy2ucmixkzd4huFpKvCR\n",
            "Resolving docs.google.com (docs.google.com)... 192.178.155.100, 192.178.155.113, 192.178.155.102, ...\n",
            "Connecting to docs.google.com (docs.google.com)|192.178.155.100|:443... connected.\n",
            "HTTP request sent, awaiting response... 303 See Other\n",
            "Location: https://drive.usercontent.google.com/download?id=1R8P5GcAsNQZDPy2ucmixkzd4huFpKvCR&export=download [following]\n",
            "--2025-07-03 12:06:15--  https://drive.usercontent.google.com/download?id=1R8P5GcAsNQZDPy2ucmixkzd4huFpKvCR&export=download\n",
            "Resolving drive.usercontent.google.com (drive.usercontent.google.com)... 172.253.115.132, 2607:f8b0:4004:c06::84\n",
            "Connecting to drive.usercontent.google.com (drive.usercontent.google.com)|172.253.115.132|:443... connected.\n",
            "HTTP request sent, awaiting response... 200 OK\n",
            "Length: 5880951 (5.6M) [application/octet-stream]\n",
            "Saving to: ‘fedbiomed-6.1.0-py3-none-any.whl’\n",
            "\n",
            "fedbiomed-6.1.0-py3 100%[===================>]   5.61M  --.-KB/s    in 0.1s    \n",
            "\n",
            "2025-07-03 12:06:32 (44.5 MB/s) - ‘fedbiomed-6.1.0-py3-none-any.whl’ saved [5880951/5880951]\n",
            "\n"
          ]
        }
      ]
    },
    {
      "cell_type": "markdown",
      "source": [
        "Install the wheel file. This will take some time.\n",
        "\n",
        "There might be some errors at the end, which can be safely ignored.\n",
        "\n",
        "If prompted, restart the session.\n"
      ],
      "metadata": {
        "id": "rVF9-VLrPASg"
      }
    },
    {
      "cell_type": "code",
      "source": [
        "%pip install ./fedbiomed-6.1.0-py3-none-any.whl"
      ],
      "metadata": {
        "id": "75qo6A_qwuqH",
        "outputId": "16f2924a-8b61-400e-eced-422b73b1e319",
        "colab": {
          "base_uri": "https://localhost:8080/"
        }
      },
      "execution_count": null,
      "outputs": [
        {
          "output_type": "stream",
          "name": "stdout",
          "text": [
            "Processing ./fedbiomed-6.1.0-py3-none-any.whl\n",
            "Collecting cryptography~=40.0 (from fedbiomed==6.1.0)\n",
            "  Downloading cryptography-40.0.2-cp36-abi3-manylinux_2_28_x86_64.whl.metadata (5.4 kB)\n",
            "Collecting declearn~=2.6.0 (from declearn[torch]~=2.6.0->fedbiomed==6.1.0)\n",
            "  Downloading declearn-2.6.0.post1-py3-none-any.whl.metadata (21 kB)\n",
            "Collecting gmpy2<2.2,>=2.1.2 (from fedbiomed==6.1.0)\n",
            "  Downloading gmpy2-2.1.5-cp311-cp311-manylinux_2_17_x86_64.manylinux2014_x86_64.whl.metadata (3.0 kB)\n",
            "Collecting grpcio-tools~=1.66 (from fedbiomed==6.1.0)\n",
            "  Downloading grpcio_tools-1.73.1-cp311-cp311-manylinux_2_17_x86_64.manylinux2014_x86_64.whl.metadata (5.3 kB)\n",
            "Requirement already satisfied: grpcio~=1.66 in /usr/local/lib/python3.11/dist-packages (from fedbiomed==6.1.0) (1.73.1)\n",
            "Collecting itk<5.4.4,>=5.3.0 (from fedbiomed==6.1.0)\n",
            "  Downloading itk-5.4.3-cp311-abi3-manylinux_2_28_x86_64.whl.metadata (22 kB)\n",
            "Requirement already satisfied: joblib~=1.2 in /usr/local/lib/python3.11/dist-packages (from fedbiomed==6.1.0) (1.5.1)\n",
            "Collecting monai>=1.1.0 (from fedbiomed==6.1.0)\n",
            "  Downloading monai-1.5.0-py3-none-any.whl.metadata (13 kB)\n",
            "Requirement already satisfied: msgpack~=1.0 in /usr/local/lib/python3.11/dist-packages (from fedbiomed==6.1.0) (1.1.1)\n",
            "Collecting opacus<1.5,>=1.4.0 (from fedbiomed==6.1.0)\n",
            "  Downloading opacus-1.4.1-py3-none-any.whl.metadata (7.9 kB)\n",
            "Requirement already satisfied: packaging~=24.1 in /usr/local/lib/python3.11/dist-packages (from fedbiomed==6.1.0) (24.2)\n",
            "Requirement already satisfied: pandas>=2.0.1 in /usr/local/lib/python3.11/dist-packages (from fedbiomed==6.1.0) (2.2.2)\n",
            "Collecting pathvalidate<3.3.0 (from fedbiomed==6.1.0)\n",
            "  Downloading pathvalidate-3.2.3-py3-none-any.whl.metadata (12 kB)\n",
            "Collecting persist-queue<0.6.0,>=0.5.1 (from fedbiomed==6.1.0)\n",
            "  Downloading persist_queue-0.5.1-py2.py3-none-any.whl.metadata (16 kB)\n",
            "Requirement already satisfied: protobuf<6.0.0 in /usr/local/lib/python3.11/dist-packages (from fedbiomed==6.1.0) (5.29.5)\n",
            "Collecting psutil~=6.0.0 (from fedbiomed==6.1.0)\n",
            "  Downloading psutil-6.0.0-cp36-abi3-manylinux_2_12_x86_64.manylinux2010_x86_64.manylinux_2_17_x86_64.manylinux2014_x86_64.whl.metadata (21 kB)\n",
            "Collecting pygments~=2.18.0 (from fedbiomed==6.1.0)\n",
            "  Downloading pygments-2.18.0-py3-none-any.whl.metadata (2.5 kB)\n",
            "Collecting pyopenssl~=23.1.1 (from fedbiomed==6.1.0)\n",
            "  Downloading pyOpenSSL-23.1.1-py3-none-any.whl.metadata (10 kB)\n",
            "Collecting python-minifier~=2.11 (from fedbiomed==6.1.0)\n",
            "  Downloading python_minifier-2.11.3-py3-none-any.whl.metadata (6.5 kB)\n",
            "Requirement already satisfied: requests~=2.29 in /usr/local/lib/python3.11/dist-packages (from fedbiomed==6.1.0) (2.32.3)\n",
            "Requirement already satisfied: scikit-learn>=1.2.0 in /usr/local/lib/python3.11/dist-packages (from fedbiomed==6.1.0) (1.6.1)\n",
            "Requirement already satisfied: scipy>=1.10.0 in /usr/local/lib/python3.11/dist-packages (from fedbiomed==6.1.0) (1.15.3)\n",
            "Requirement already satisfied: tabulate<0.10.0,>=0.9.0 in /usr/local/lib/python3.11/dist-packages (from fedbiomed==6.1.0) (0.9.0)\n",
            "Collecting tinydb~=4.7.1 (from fedbiomed==6.1.0)\n",
            "  Downloading tinydb-4.7.1-py3-none-any.whl.metadata (6.5 kB)\n",
            "Requirement already satisfied: torch>=1.13.0 in /usr/local/lib/python3.11/dist-packages (from fedbiomed==6.1.0) (2.6.0+cu124)\n",
            "Requirement already satisfied: torchvision>=0.14.0 in /usr/local/lib/python3.11/dist-packages (from fedbiomed==6.1.0) (0.21.0+cu124)\n",
            "Collecting unet<0.8.0,>=0.7.7 (from fedbiomed==6.1.0)\n",
            "  Downloading unet-0.7.9-py3-none-any.whl.metadata (2.0 kB)\n",
            "Collecting validators<0.21.0,>=0.20.0 (from fedbiomed==6.1.0)\n",
            "  Downloading validators-0.20.0.tar.gz (30 kB)\n",
            "  Preparing metadata (setup.py) ... \u001b[?25l\u001b[?25hdone\n",
            "Requirement already satisfied: cffi>=1.12 in /usr/local/lib/python3.11/dist-packages (from cryptography~=40.0->fedbiomed==6.1.0) (1.17.1)\n",
            "Collecting fire~=0.4 (from declearn~=2.6.0->declearn[torch]~=2.6.0->fedbiomed==6.1.0)\n",
            "  Downloading fire-0.7.0.tar.gz (87 kB)\n",
            "\u001b[2K     \u001b[90m━━━━━━━━━━━━━━━━━━━━━━━━━━━━━━━━━━━━━━━━\u001b[0m \u001b[32m87.2/87.2 kB\u001b[0m \u001b[31m10.3 MB/s\u001b[0m eta \u001b[36m0:00:00\u001b[0m\n",
            "\u001b[?25h  Preparing metadata (setup.py) ... \u001b[?25l\u001b[?25hdone\n",
            "Requirement already satisfied: tqdm~=4.62 in /usr/local/lib/python3.11/dist-packages (from declearn~=2.6.0->declearn[torch]~=2.6.0->fedbiomed==6.1.0) (4.67.1)\n",
            "Requirement already satisfied: typing-extensions~=4.0 in /usr/local/lib/python3.11/dist-packages (from declearn~=2.6.0->declearn[torch]~=2.6.0->fedbiomed==6.1.0) (4.14.0)\n",
            "INFO: pip is looking at multiple versions of grpcio-tools to determine which version is compatible with other requirements. This could take a while.\n",
            "Collecting grpcio-tools~=1.66 (from fedbiomed==6.1.0)\n",
            "  Downloading grpcio_tools-1.73.0-cp311-cp311-manylinux_2_17_x86_64.manylinux2014_x86_64.whl.metadata (5.3 kB)\n",
            "  Downloading grpcio_tools-1.72.2-cp311-cp311-manylinux_2_17_x86_64.manylinux2014_x86_64.whl.metadata (5.3 kB)\n",
            "  Downloading grpcio_tools-1.72.1-cp311-cp311-manylinux_2_17_x86_64.manylinux2014_x86_64.whl.metadata (5.3 kB)\n",
            "  Downloading grpcio_tools-1.71.2-cp311-cp311-manylinux_2_17_x86_64.manylinux2014_x86_64.whl.metadata (5.3 kB)\n",
            "Requirement already satisfied: setuptools in /usr/local/lib/python3.11/dist-packages (from grpcio-tools~=1.66->fedbiomed==6.1.0) (75.2.0)\n",
            "Collecting itk-core==5.4.3 (from itk<5.4.4,>=5.3.0->fedbiomed==6.1.0)\n",
            "  Downloading itk_core-5.4.3-cp311-abi3-manylinux_2_28_x86_64.whl.metadata (22 kB)\n",
            "Collecting itk-numerics==5.4.3 (from itk<5.4.4,>=5.3.0->fedbiomed==6.1.0)\n",
            "  Downloading itk_numerics-5.4.3-cp311-abi3-manylinux_2_28_x86_64.whl.metadata (22 kB)\n",
            "Collecting itk-io==5.4.3 (from itk<5.4.4,>=5.3.0->fedbiomed==6.1.0)\n",
            "  Downloading itk_io-5.4.3-cp311-abi3-manylinux_2_28_x86_64.whl.metadata (22 kB)\n",
            "Collecting itk-filtering==5.4.3 (from itk<5.4.4,>=5.3.0->fedbiomed==6.1.0)\n",
            "  Downloading itk_filtering-5.4.3-cp311-abi3-manylinux_2_28_x86_64.whl.metadata (22 kB)\n",
            "Collecting itk-registration==5.4.3 (from itk<5.4.4,>=5.3.0->fedbiomed==6.1.0)\n",
            "  Downloading itk_registration-5.4.3-cp311-abi3-manylinux_2_28_x86_64.whl.metadata (22 kB)\n",
            "Collecting itk-segmentation==5.4.3 (from itk<5.4.4,>=5.3.0->fedbiomed==6.1.0)\n",
            "  Downloading itk_segmentation-5.4.3-cp311-abi3-manylinux_2_28_x86_64.whl.metadata (22 kB)\n",
            "Requirement already satisfied: numpy in /usr/local/lib/python3.11/dist-packages (from itk<5.4.4,>=5.3.0->fedbiomed==6.1.0) (2.0.2)\n",
            "Requirement already satisfied: opt-einsum>=3.3.0 in /usr/local/lib/python3.11/dist-packages (from opacus<1.5,>=1.4.0->fedbiomed==6.1.0) (3.4.0)\n",
            "Requirement already satisfied: python-dateutil>=2.8.2 in /usr/local/lib/python3.11/dist-packages (from pandas>=2.0.1->fedbiomed==6.1.0) (2.9.0.post0)\n",
            "Requirement already satisfied: pytz>=2020.1 in /usr/local/lib/python3.11/dist-packages (from pandas>=2.0.1->fedbiomed==6.1.0) (2025.2)\n",
            "Requirement already satisfied: tzdata>=2022.7 in /usr/local/lib/python3.11/dist-packages (from pandas>=2.0.1->fedbiomed==6.1.0) (2025.2)\n",
            "Requirement already satisfied: charset-normalizer<4,>=2 in /usr/local/lib/python3.11/dist-packages (from requests~=2.29->fedbiomed==6.1.0) (3.4.2)\n",
            "Requirement already satisfied: idna<4,>=2.5 in /usr/local/lib/python3.11/dist-packages (from requests~=2.29->fedbiomed==6.1.0) (3.10)\n",
            "Requirement already satisfied: urllib3<3,>=1.21.1 in /usr/local/lib/python3.11/dist-packages (from requests~=2.29->fedbiomed==6.1.0) (2.4.0)\n",
            "Requirement already satisfied: certifi>=2017.4.17 in /usr/local/lib/python3.11/dist-packages (from requests~=2.29->fedbiomed==6.1.0) (2025.6.15)\n",
            "Requirement already satisfied: threadpoolctl>=3.1.0 in /usr/local/lib/python3.11/dist-packages (from scikit-learn>=1.2.0->fedbiomed==6.1.0) (3.6.0)\n",
            "Requirement already satisfied: filelock in /usr/local/lib/python3.11/dist-packages (from torch>=1.13.0->fedbiomed==6.1.0) (3.18.0)\n",
            "Requirement already satisfied: networkx in /usr/local/lib/python3.11/dist-packages (from torch>=1.13.0->fedbiomed==6.1.0) (3.5)\n",
            "Requirement already satisfied: jinja2 in /usr/local/lib/python3.11/dist-packages (from torch>=1.13.0->fedbiomed==6.1.0) (3.1.6)\n",
            "Requirement already satisfied: fsspec in /usr/local/lib/python3.11/dist-packages (from torch>=1.13.0->fedbiomed==6.1.0) (2025.3.2)\n",
            "Collecting nvidia-cuda-nvrtc-cu12==12.4.127 (from torch>=1.13.0->fedbiomed==6.1.0)\n",
            "  Downloading nvidia_cuda_nvrtc_cu12-12.4.127-py3-none-manylinux2014_x86_64.whl.metadata (1.5 kB)\n",
            "Collecting nvidia-cuda-runtime-cu12==12.4.127 (from torch>=1.13.0->fedbiomed==6.1.0)\n",
            "  Downloading nvidia_cuda_runtime_cu12-12.4.127-py3-none-manylinux2014_x86_64.whl.metadata (1.5 kB)\n",
            "Collecting nvidia-cuda-cupti-cu12==12.4.127 (from torch>=1.13.0->fedbiomed==6.1.0)\n",
            "  Downloading nvidia_cuda_cupti_cu12-12.4.127-py3-none-manylinux2014_x86_64.whl.metadata (1.6 kB)\n",
            "Collecting nvidia-cudnn-cu12==9.1.0.70 (from torch>=1.13.0->fedbiomed==6.1.0)\n",
            "  Downloading nvidia_cudnn_cu12-9.1.0.70-py3-none-manylinux2014_x86_64.whl.metadata (1.6 kB)\n",
            "Collecting nvidia-cublas-cu12==12.4.5.8 (from torch>=1.13.0->fedbiomed==6.1.0)\n",
            "  Downloading nvidia_cublas_cu12-12.4.5.8-py3-none-manylinux2014_x86_64.whl.metadata (1.5 kB)\n",
            "Collecting nvidia-cufft-cu12==11.2.1.3 (from torch>=1.13.0->fedbiomed==6.1.0)\n",
            "  Downloading nvidia_cufft_cu12-11.2.1.3-py3-none-manylinux2014_x86_64.whl.metadata (1.5 kB)\n",
            "Collecting nvidia-curand-cu12==10.3.5.147 (from torch>=1.13.0->fedbiomed==6.1.0)\n",
            "  Downloading nvidia_curand_cu12-10.3.5.147-py3-none-manylinux2014_x86_64.whl.metadata (1.5 kB)\n",
            "Collecting nvidia-cusolver-cu12==11.6.1.9 (from torch>=1.13.0->fedbiomed==6.1.0)\n",
            "  Downloading nvidia_cusolver_cu12-11.6.1.9-py3-none-manylinux2014_x86_64.whl.metadata (1.6 kB)\n",
            "Collecting nvidia-cusparse-cu12==12.3.1.170 (from torch>=1.13.0->fedbiomed==6.1.0)\n",
            "  Downloading nvidia_cusparse_cu12-12.3.1.170-py3-none-manylinux2014_x86_64.whl.metadata (1.6 kB)\n",
            "Requirement already satisfied: nvidia-cusparselt-cu12==0.6.2 in /usr/local/lib/python3.11/dist-packages (from torch>=1.13.0->fedbiomed==6.1.0) (0.6.2)\n",
            "Requirement already satisfied: nvidia-nccl-cu12==2.21.5 in /usr/local/lib/python3.11/dist-packages (from torch>=1.13.0->fedbiomed==6.1.0) (2.21.5)\n",
            "Requirement already satisfied: nvidia-nvtx-cu12==12.4.127 in /usr/local/lib/python3.11/dist-packages (from torch>=1.13.0->fedbiomed==6.1.0) (12.4.127)\n",
            "Collecting nvidia-nvjitlink-cu12==12.4.127 (from torch>=1.13.0->fedbiomed==6.1.0)\n",
            "  Downloading nvidia_nvjitlink_cu12-12.4.127-py3-none-manylinux2014_x86_64.whl.metadata (1.5 kB)\n",
            "Requirement already satisfied: triton==3.2.0 in /usr/local/lib/python3.11/dist-packages (from torch>=1.13.0->fedbiomed==6.1.0) (3.2.0)\n",
            "Requirement already satisfied: sympy==1.13.1 in /usr/local/lib/python3.11/dist-packages (from torch>=1.13.0->fedbiomed==6.1.0) (1.13.1)\n",
            "Requirement already satisfied: mpmath<1.4,>=1.1.0 in /usr/local/lib/python3.11/dist-packages (from sympy==1.13.1->torch>=1.13.0->fedbiomed==6.1.0) (1.3.0)\n",
            "Requirement already satisfied: pillow!=8.3.*,>=5.3.0 in /usr/local/lib/python3.11/dist-packages (from torchvision>=0.14.0->fedbiomed==6.1.0) (11.2.1)\n",
            "Requirement already satisfied: decorator>=3.4.0 in /usr/local/lib/python3.11/dist-packages (from validators<0.21.0,>=0.20.0->fedbiomed==6.1.0) (4.4.2)\n",
            "Requirement already satisfied: pycparser in /usr/local/lib/python3.11/dist-packages (from cffi>=1.12->cryptography~=40.0->fedbiomed==6.1.0) (2.22)\n",
            "Requirement already satisfied: termcolor in /usr/local/lib/python3.11/dist-packages (from fire~=0.4->declearn~=2.6.0->declearn[torch]~=2.6.0->fedbiomed==6.1.0) (3.1.0)\n",
            "Requirement already satisfied: six>=1.5 in /usr/local/lib/python3.11/dist-packages (from python-dateutil>=2.8.2->pandas>=2.0.1->fedbiomed==6.1.0) (1.17.0)\n",
            "Requirement already satisfied: MarkupSafe>=2.0 in /usr/local/lib/python3.11/dist-packages (from jinja2->torch>=1.13.0->fedbiomed==6.1.0) (3.0.2)\n",
            "Downloading cryptography-40.0.2-cp36-abi3-manylinux_2_28_x86_64.whl (3.7 MB)\n",
            "\u001b[2K   \u001b[90m━━━━━━━━━━━━━━━━━━━━━━━━━━━━━━━━━━━━━━━━\u001b[0m \u001b[32m3.7/3.7 MB\u001b[0m \u001b[31m92.3 MB/s\u001b[0m eta \u001b[36m0:00:00\u001b[0m\n",
            "\u001b[?25hDownloading declearn-2.6.0.post1-py3-none-any.whl (503 kB)\n",
            "\u001b[2K   \u001b[90m━━━━━━━━━━━━━━━━━━━━━━━━━━━━━━━━━━━━━━━━\u001b[0m \u001b[32m503.4/503.4 kB\u001b[0m \u001b[31m41.0 MB/s\u001b[0m eta \u001b[36m0:00:00\u001b[0m\n",
            "\u001b[?25hDownloading gmpy2-2.1.5-cp311-cp311-manylinux_2_17_x86_64.manylinux2014_x86_64.whl (1.8 MB)\n",
            "\u001b[2K   \u001b[90m━━━━━━━━━━━━━━━━━━━━━━━━━━━━━━━━━━━━━━━━\u001b[0m \u001b[32m1.8/1.8 MB\u001b[0m \u001b[31m80.4 MB/s\u001b[0m eta \u001b[36m0:00:00\u001b[0m\n",
            "\u001b[?25hDownloading grpcio_tools-1.71.2-cp311-cp311-manylinux_2_17_x86_64.manylinux2014_x86_64.whl (2.5 MB)\n",
            "\u001b[2K   \u001b[90m━━━━━━━━━━━━━━━━━━━━━━━━━━━━━━━━━━━━━━━━\u001b[0m \u001b[32m2.5/2.5 MB\u001b[0m \u001b[31m90.3 MB/s\u001b[0m eta \u001b[36m0:00:00\u001b[0m\n",
            "\u001b[?25hDownloading itk-5.4.3-cp311-abi3-manylinux_2_28_x86_64.whl (16 kB)\n",
            "Downloading itk_core-5.4.3-cp311-abi3-manylinux_2_28_x86_64.whl (80.9 MB)\n",
            "\u001b[2K   \u001b[90m━━━━━━━━━━━━━━━━━━━━━━━━━━━━━━━━━━━━━━━━\u001b[0m \u001b[32m80.9/80.9 MB\u001b[0m \u001b[31m9.0 MB/s\u001b[0m eta \u001b[36m0:00:00\u001b[0m\n",
            "\u001b[?25hDownloading itk_filtering-5.4.3-cp311-abi3-manylinux_2_28_x86_64.whl (67.8 MB)\n",
            "\u001b[2K   \u001b[90m━━━━━━━━━━━━━━━━━━━━━━━━━━━━━━━━━━━━━━━━\u001b[0m \u001b[32m67.8/67.8 MB\u001b[0m \u001b[31m12.6 MB/s\u001b[0m eta \u001b[36m0:00:00\u001b[0m\n",
            "\u001b[?25hDownloading itk_io-5.4.3-cp311-abi3-manylinux_2_28_x86_64.whl (28.0 MB)\n",
            "\u001b[2K   \u001b[90m━━━━━━━━━━━━━━━━━━━━━━━━━━━━━━━━━━━━━━━━\u001b[0m \u001b[32m28.0/28.0 MB\u001b[0m \u001b[31m61.1 MB/s\u001b[0m eta \u001b[36m0:00:00\u001b[0m\n",
            "\u001b[?25hDownloading itk_numerics-5.4.3-cp311-abi3-manylinux_2_28_x86_64.whl (57.2 MB)\n",
            "\u001b[2K   \u001b[90m━━━━━━━━━━━━━━━━━━━━━━━━━━━━━━━━━━━━━━━━\u001b[0m \u001b[32m57.2/57.2 MB\u001b[0m \u001b[31m10.0 MB/s\u001b[0m eta \u001b[36m0:00:00\u001b[0m\n",
            "\u001b[?25hDownloading itk_registration-5.4.3-cp311-abi3-manylinux_2_28_x86_64.whl (28.5 MB)\n",
            "\u001b[2K   \u001b[90m━━━━━━━━━━━━━━━━━━━━━━━━━━━━━━━━━━━━━━━━\u001b[0m \u001b[32m28.5/28.5 MB\u001b[0m \u001b[31m44.9 MB/s\u001b[0m eta \u001b[36m0:00:00\u001b[0m\n",
            "\u001b[?25hDownloading itk_segmentation-5.4.3-cp311-abi3-manylinux_2_28_x86_64.whl (15.9 MB)\n",
            "\u001b[2K   \u001b[90m━━━━━━━━━━━━━━━━━━━━━━━━━━━━━━━━━━━━━━━━\u001b[0m \u001b[32m15.9/15.9 MB\u001b[0m \u001b[31m64.3 MB/s\u001b[0m eta \u001b[36m0:00:00\u001b[0m\n",
            "\u001b[?25hDownloading monai-1.5.0-py3-none-any.whl (2.7 MB)\n",
            "\u001b[2K   \u001b[90m━━━━━━━━━━━━━━━━━━━━━━━━━━━━━━━━━━━━━━━━\u001b[0m \u001b[32m2.7/2.7 MB\u001b[0m \u001b[31m74.4 MB/s\u001b[0m eta \u001b[36m0:00:00\u001b[0m\n",
            "\u001b[?25hDownloading opacus-1.4.1-py3-none-any.whl (226 kB)\n",
            "\u001b[2K   \u001b[90m━━━━━━━━━━━━━━━━━━━━━━━━━━━━━━━━━━━━━━━━\u001b[0m \u001b[32m226.7/226.7 kB\u001b[0m \u001b[31m23.5 MB/s\u001b[0m eta \u001b[36m0:00:00\u001b[0m\n",
            "\u001b[?25hDownloading pathvalidate-3.2.3-py3-none-any.whl (24 kB)\n",
            "Downloading persist_queue-0.5.1-py2.py3-none-any.whl (28 kB)\n",
            "Downloading psutil-6.0.0-cp36-abi3-manylinux_2_12_x86_64.manylinux2010_x86_64.manylinux_2_17_x86_64.manylinux2014_x86_64.whl (290 kB)\n",
            "\u001b[2K   \u001b[90m━━━━━━━━━━━━━━━━━━━━━━━━━━━━━━━━━━━━━━━━\u001b[0m \u001b[32m290.5/290.5 kB\u001b[0m \u001b[31m27.5 MB/s\u001b[0m eta \u001b[36m0:00:00\u001b[0m\n",
            "\u001b[?25hDownloading pygments-2.18.0-py3-none-any.whl (1.2 MB)\n",
            "\u001b[2K   \u001b[90m━━━━━━━━━━━━━━━━━━━━━━━━━━━━━━━━━━━━━━━━\u001b[0m \u001b[32m1.2/1.2 MB\u001b[0m \u001b[31m70.4 MB/s\u001b[0m eta \u001b[36m0:00:00\u001b[0m\n",
            "\u001b[?25hDownloading pyOpenSSL-23.1.1-py3-none-any.whl (57 kB)\n",
            "\u001b[2K   \u001b[90m━━━━━━━━━━━━━━━━━━━━━━━━━━━━━━━━━━━━━━━━\u001b[0m \u001b[32m57.9/57.9 kB\u001b[0m \u001b[31m5.3 MB/s\u001b[0m eta \u001b[36m0:00:00\u001b[0m\n",
            "\u001b[?25hDownloading python_minifier-2.11.3-py3-none-any.whl (56 kB)\n",
            "\u001b[2K   \u001b[90m━━━━━━━━━━━━━━━━━━━━━━━━━━━━━━━━━━━━━━━━\u001b[0m \u001b[32m56.2/56.2 kB\u001b[0m \u001b[31m5.5 MB/s\u001b[0m eta \u001b[36m0:00:00\u001b[0m\n",
            "\u001b[?25hDownloading tinydb-4.7.1-py3-none-any.whl (24 kB)\n",
            "Downloading nvidia_cublas_cu12-12.4.5.8-py3-none-manylinux2014_x86_64.whl (363.4 MB)\n",
            "\u001b[2K   \u001b[90m━━━━━━━━━━━━━━━━━━━━━━━━━━━━━━━━━━━━━━━━\u001b[0m \u001b[32m363.4/363.4 MB\u001b[0m \u001b[31m4.2 MB/s\u001b[0m eta \u001b[36m0:00:00\u001b[0m\n",
            "\u001b[?25hDownloading nvidia_cuda_cupti_cu12-12.4.127-py3-none-manylinux2014_x86_64.whl (13.8 MB)\n",
            "\u001b[2K   \u001b[90m━━━━━━━━━━━━━━━━━━━━━━━━━━━━━━━━━━━━━━━━\u001b[0m \u001b[32m13.8/13.8 MB\u001b[0m \u001b[31m100.8 MB/s\u001b[0m eta \u001b[36m0:00:00\u001b[0m\n",
            "\u001b[?25hDownloading nvidia_cuda_nvrtc_cu12-12.4.127-py3-none-manylinux2014_x86_64.whl (24.6 MB)\n",
            "\u001b[2K   \u001b[90m━━━━━━━━━━━━━━━━━━━━━━━━━━━━━━━━━━━━━━━━\u001b[0m \u001b[32m24.6/24.6 MB\u001b[0m \u001b[31m69.9 MB/s\u001b[0m eta \u001b[36m0:00:00\u001b[0m\n",
            "\u001b[?25hDownloading nvidia_cuda_runtime_cu12-12.4.127-py3-none-manylinux2014_x86_64.whl (883 kB)\n",
            "\u001b[2K   \u001b[90m━━━━━━━━━━━━━━━━━━━━━━━━━━━━━━━━━━━━━━━━\u001b[0m \u001b[32m883.7/883.7 kB\u001b[0m \u001b[31m41.1 MB/s\u001b[0m eta \u001b[36m0:00:00\u001b[0m\n",
            "\u001b[?25hDownloading nvidia_cudnn_cu12-9.1.0.70-py3-none-manylinux2014_x86_64.whl (664.8 MB)\n",
            "\u001b[2K   \u001b[90m━━━━━━━━━━━━━━━━━━━━━━━━━━━━━━━━━━━━━━━━\u001b[0m \u001b[32m664.8/664.8 MB\u001b[0m \u001b[31m2.4 MB/s\u001b[0m eta \u001b[36m0:00:00\u001b[0m\n",
            "\u001b[?25hDownloading nvidia_cufft_cu12-11.2.1.3-py3-none-manylinux2014_x86_64.whl (211.5 MB)\n",
            "\u001b[2K   \u001b[90m━━━━━━━━━━━━━━━━━━━━━━━━━━━━━━━━━━━━━━━━\u001b[0m \u001b[32m211.5/211.5 MB\u001b[0m \u001b[31m6.2 MB/s\u001b[0m eta \u001b[36m0:00:00\u001b[0m\n",
            "\u001b[?25hDownloading nvidia_curand_cu12-10.3.5.147-py3-none-manylinux2014_x86_64.whl (56.3 MB)\n",
            "\u001b[2K   \u001b[90m━━━━━━━━━━━━━━━━━━━━━━━━━━━━━━━━━━━━━━━━\u001b[0m \u001b[32m56.3/56.3 MB\u001b[0m \u001b[31m12.4 MB/s\u001b[0m eta \u001b[36m0:00:00\u001b[0m\n",
            "\u001b[?25hDownloading nvidia_cusolver_cu12-11.6.1.9-py3-none-manylinux2014_x86_64.whl (127.9 MB)\n",
            "\u001b[2K   \u001b[90m━━━━━━━━━━━━━━━━━━━━━━━━━━━━━━━━━━━━━━━━\u001b[0m \u001b[32m127.9/127.9 MB\u001b[0m \u001b[31m7.7 MB/s\u001b[0m eta \u001b[36m0:00:00\u001b[0m\n",
            "\u001b[?25hDownloading nvidia_cusparse_cu12-12.3.1.170-py3-none-manylinux2014_x86_64.whl (207.5 MB)\n",
            "\u001b[2K   \u001b[91m━━━━━━━━━━━━━━━━━━━━━━━━━━━━━━━━━━━━━━━\u001b[0m\u001b[91m╸\u001b[0m \u001b[32m207.5/207.5 MB\u001b[0m \u001b[31m92.1 MB/s\u001b[0m eta \u001b[36m0:00:01\u001b[0m"
          ]
        }
      ]
    },
    {
      "cell_type": "markdown",
      "source": [
        "# Fed-BioMed tutorial\n",
        "\n",
        "In this tutorial you will interpret both the role of a clinical data provider and a clinical data scientist.\n",
        "\n",
        "First, let's start by defining the type of problem we wish to solve, the available data, and the deep learning approach that we will use."
      ],
      "metadata": {
        "id": "uZm_x8zsJd8U"
      }
    },
    {
      "cell_type": "markdown",
      "source": [
        "## Brain segmentation\n",
        "\n",
        "In this tutorial we will showcase a brain segmentation task, where we want to predict which pixels of the image belong to the brain, and pixels belong to the _\"background\"_. The background includes anything that is not the brain (i.e. it also includes the skull).\n",
        "\n",
        "This task is a common preprocessing step in many imaging studies on the brain.\n",
        "\n",
        "Here is an example of what we want to achieve: on the left is the input image, while on the right we show a green overlay on every pixel that was classified as _\"brain\"_.\n",
        "\n",
        "![image.png](data:image/png;base64,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)"
      ],
      "metadata": {
        "id": "8eC8CmGplDqg"
      }
    },
    {
      "cell_type": "markdown",
      "source": [
        "## Available data\n",
        "\n",
        "This tutorial will use the publicly available [IXI dataset](https://brain-development.org/ixi-dataset/).\n",
        "\n",
        "This dataset contains 3D MRI brain images from three separate centers:\n",
        "\n",
        "- Guy's hospital (Guys)\n",
        "- Hammersmith hospital (HH)\n",
        "- Institute of Psychiatry (IOP)\n",
        "\n",
        "Each MRI image has been annotated by experts with a pixel-wise mask, indicating which pixels belong to the _\"brain\"_ and which pixels should be considered as _\"background\"_."
      ],
      "metadata": {
        "id": "nCujowZqKLjQ"
      }
    },
    {
      "cell_type": "markdown",
      "source": [
        "### Download the data\n",
        "\n",
        "Execute the cell below"
      ],
      "metadata": {
        "id": "hfL1aM1DJtJ1"
      }
    },
    {
      "cell_type": "code",
      "source": [
        "%%shell\n",
        "mkdir -p /content/fedbiomed_components/notebooks/data\n",
        "cd /content/fedbiomed_components\n",
        "wget https://raw.githubusercontent.com/fedbiomed/fedbiomed/refs/heads/develop/notebooks/medical-image-segmentation/download_and_split_ixi.py\n",
        "python download_and_split_ixi.py -f /content/fedbiomed_components"
      ],
      "metadata": {
        "id": "9a7-oCtRwlqW"
      },
      "execution_count": null,
      "outputs": []
    },
    {
      "cell_type": "markdown",
      "source": [
        "## Deep learning model\n",
        "\n",
        "The tutorial uses a 3D [U-Net](https://link.springer.com/chapter/10.1007/978-3-319-24574-4_28) model for the segmentation. The implementation relies on the [MONAI](https://docs.monai.io/en/stable/networks.html#unet) library.\n",
        "\n",
        "\n"
      ],
      "metadata": {
        "id": "lTz5SUDjJhNV"
      }
    },
    {
      "cell_type": "markdown",
      "source": [
        "# Single-center training at Hammersmith hospital\n",
        "\n",
        "As a clinical data scientist working at the HH center, you are going to train a UNet segmentation model on the data available at your center."
      ],
      "metadata": {
        "id": "inzKoFIBJooJ"
      }
    },
    {
      "cell_type": "code",
      "source": [
        "import torch\n",
        "from torch.optim import AdamW, SGD\n",
        "from torch.utils.data import DataLoader\n",
        "from monai.networks.nets import UNet\n",
        "import torch.nn.functional as F\n",
        "from monai.losses.dice import DiceLoss\n",
        "from monai.transforms import (Compose, NormalizeIntensity, EnsureChannelFirst, Resize, AsDiscrete)\n",
        "import matplotlib.pyplot as plt\n",
        "import numpy as np"
      ],
      "metadata": {
        "id": "J5jrgwCm0_aW"
      },
      "execution_count": null,
      "outputs": []
    },
    {
      "cell_type": "code",
      "source": [
        "_ = torch.manual_seed(424242)"
      ],
      "metadata": {
        "id": "0VomgNp9zmmw"
      },
      "execution_count": null,
      "outputs": []
    },
    {
      "cell_type": "markdown",
      "source": [
        "### Define the data class\n",
        "\n",
        "We will use Fed-BioMed’s built-in class for image segmentation tasks: [`MedicalFolderDataset`](https://fedbiomed.org/latest/developer/api/common/data/#fedbiomed.common.data.MedicalFolderDataset). This class supports several medical imaging modalities (think all the different types of MRI, CT, PET, etc..). It is optimized for segmentation tasks but can be applied to other tasks (e.g. classification, regression, …). This class supports loading a set of patient demographics data in csv format, in addition to the imaging data.\n",
        "\n",
        "The inputs to the `__init__` function are:\n",
        "\n",
        "- root: the filesystem path where the root of the dataset is located\n",
        "- data_modalities: the names of the modalities of interest for the input data\n",
        "- target_modalities: the names of the modalities of interest for the data to be predicted\n",
        "- transform: optional transformations to be performed on the input images\n",
        "- target_transform: optional transformations to be performed on the target data\n",
        "- demographics_transform: optional transformations to be performed on the demographics (csv) data\n",
        "\n",
        "Let’s create the dataset:"
      ],
      "metadata": {
        "id": "aa2fpeWLp4_h"
      }
    },
    {
      "cell_type": "code",
      "source": [
        "from fedbiomed.common.data import MedicalFolderDataset"
      ],
      "metadata": {
        "id": "5L7gEnjTPVDp"
      },
      "execution_count": null,
      "outputs": []
    },
    {
      "cell_type": "code",
      "source": [
        "common_shape = (48, 48, 64)\n",
        "training_transform = Compose([EnsureChannelFirst(), Resize(common_shape), NormalizeIntensity(),])\n",
        "target_transform = Compose([EnsureChannelFirst(), Resize(common_shape), AsDiscrete(to_onehot=2)])\n",
        "\n",
        "dataset = MedicalFolderDataset(\n",
        "    root='/content/fedbiomed_components/hh/data/train',\n",
        "    data_modalities=['T1'],\n",
        "    target_modalities='label',\n",
        "    transform=training_transform,\n",
        "    target_transform=target_transform,\n",
        "    demographics_transform=None)"
      ],
      "metadata": {
        "id": "J45bsHXO2NWC"
      },
      "execution_count": null,
      "outputs": []
    },
    {
      "cell_type": "markdown",
      "source": [
        "You can find out the total number of images with the `len` function, and access images individually with the `[idx]` operator, where `idx` is an integer index.\n",
        "\n",
        "Note: `dataset[0]` will return a `tuple` corresponding to index 0. The tuple will be in the form `(inputs, targets)`.\n",
        "\n",
        "What is the format of `inputs` and `targets`? How do you access a single image? What data type is it, what is its format and shape? How do you access the corresponding segmentation mask?"
      ],
      "metadata": {
        "id": "lWWfDp6Cqj7z"
      }
    },
    {
      "cell_type": "code",
      "source": [],
      "metadata": {
        "id": "54zwCnLRsdYt"
      },
      "execution_count": null,
      "outputs": []
    },
    {
      "cell_type": "code",
      "source": [],
      "metadata": {
        "id": "LuKBLdN5pf0t"
      },
      "execution_count": null,
      "outputs": []
    },
    {
      "cell_type": "markdown",
      "source": [
        "Plot two images. On the left, the raw input image. On the right, again the raw input image as background but overlayed with the ground truth segmentation. Take some time to familiriaze yourself with the approach for making the overlay plot, and all the plotting arguments that we use."
      ],
      "metadata": {
        "id": "Du8fvQRJrALS"
      }
    },
    {
      "cell_type": "code",
      "source": [
        "fig, ax = plt.subplots(1,2, figsize=(10,6))\n",
        "slice_to_plot = 24\n",
        "(image_modalities, demographics), target = dataset[1]\n",
        "img = image_modalities['T1'][0, ..., slice_to_plot]\n",
        "\n",
        "ax[0].imshow(img, cmap='bone', aspect='auto')\n",
        "ax[0].invert_yaxis()\n",
        "\n",
        "ax[1].imshow(img, cmap='bone', aspect='auto')\n",
        "label = target['label'][1, ..., slice_to_plot]\n",
        "plot = ax[1].imshow(np.ma.masked_where(\n",
        "                        label < 0.5,\n",
        "                        label), cmap='winter', alpha=0.5,\n",
        "                    interpolation='none', vmin=0., vmax=1.,\n",
        "                    aspect='auto')\n",
        "ax[1].invert_yaxis()\n",
        "\n",
        "fig.suptitle('Input slice with ground truth overlay')\n",
        "fig.colorbar(plot, ax=ax, location='bottom')"
      ],
      "metadata": {
        "id": "PcnuMSq6rD-A"
      },
      "execution_count": null,
      "outputs": []
    },
    {
      "cell_type": "markdown",
      "source": [
        "## Define the UNet model\n",
        "\n",
        "Use [MONAI's UNet](https://docs.monai.io/en/stable/networks.html#unet) implementation.\n",
        "\n",
        "Define suitable values for `spatial_dims`, `in_channels`, `out_channels`. Follow our proposed structure and define a suitable value for `n_base_filters` (a value around `8` seems to work ok for this tutorial, but you can play around if you want)\n",
        "\n",
        "\n"
      ],
      "metadata": {
        "id": "Y79WiN_tzJsZ"
      }
    },
    {
      "cell_type": "code",
      "source": [
        "n_base_filters = ??\n",
        "model = UNet(\n",
        "    spatial_dims = 3,\n",
        "    in_channels = 1,\n",
        "    out_channels = 2,\n",
        "    channels = (n_base_filters,\n",
        "                2*n_base_filters,\n",
        "                4*n_base_filters),\n",
        "    strides = (2,2),\n",
        "    kernel_size=3,\n",
        "    up_kernel_size=3,\n",
        "    num_res_units=0,\n",
        "    act='PRELU',\n",
        "    norm='INSTANCE',\n",
        "    dropout=0.0,\n",
        "    bias=True,\n",
        "    adn_ordering='NDA'\n",
        ")"
      ],
      "metadata": {
        "id": "zX6PGpf10-6s"
      },
      "execution_count": null,
      "outputs": []
    },
    {
      "cell_type": "markdown",
      "source": [
        "## Define the optimizer\n",
        "\n",
        "use `AdamW` with starting learning rate `1e-3`."
      ],
      "metadata": {
        "id": "3WIkQ_RozM1z"
      }
    },
    {
      "cell_type": "code",
      "source": [
        "optimizer = AdamW(model.parameters(), lr=0.001)"
      ],
      "metadata": {
        "id": "3j-nVu9p1XFR"
      },
      "execution_count": null,
      "outputs": []
    },
    {
      "cell_type": "markdown",
      "source": [
        "## Define the loss function\n",
        "\n",
        "Loss function is computed based on the Dice Loss.\n",
        "\n",
        "Carole H Sudre, Wenqi Li, Tom Vercauteren, Sebastien Ourselin, and M Jorge Cardoso. Generalised dice overlap as a deep learning loss function for highly unbalanced segmentations. In Deep learning in medical image analysis and multimodal learning for clinical decision support, pages 240–248. Springer, 2017.\n",
        "\n",
        "Use MONAI's [`DiceLoss`](https://docs.monai.io/en/stable/losses.html#diceloss).\n",
        "Be careful about the `include_background`,`sigmoid`, and `softmax` parameters!"
      ],
      "metadata": {
        "id": "mPNTzXJ-zQNT"
      }
    },
    {
      "cell_type": "code",
      "source": [
        "loss_fn = DiceLoss(include_background=?, sigmoid=?, softmax=?)"
      ],
      "metadata": {
        "id": "zF9Hpkl61lzY"
      },
      "execution_count": null,
      "outputs": []
    },
    {
      "cell_type": "markdown",
      "source": [
        "## Train loop\n",
        "\n",
        "First, define a `DataLoader`. Use a small `batch_size` to avoid saturating the memory.\n",
        "\n",
        "Then, train for `100` rounds, but only do `2` updates per round. This will make it a bit easier to compare to the federated scenario later on."
      ],
      "metadata": {
        "id": "s1iUnlEiz3xP"
      }
    },
    {
      "cell_type": "code",
      "source": [
        "train_loader = DataLoader(dataset, shuffle=True, batch_size=2)\n",
        "\n",
        "num_rounds = 100\n",
        "num_updates_per_round = 2\n",
        "\n",
        "epoch_losses = list()\n",
        "\n",
        "for epoch in range(num_rounds):\n",
        "  epoch_loss = 0.\n",
        "  for i_update, (data, target) in enumerate(train_loader):\n",
        "    if i_update > num_updates_per_round:\n",
        "      break\n",
        "    optimizer.zero_grad()\n",
        "    img = data[0]['T1']\n",
        "    demographics = data[1]\n",
        "    target = target['label']\n",
        "    logits = model.forward(img)\n",
        "    prediction = F.softmax(logits, dim=1)\n",
        "    loss = loss_fn(prediction, target)\n",
        "    loss.backward()\n",
        "    optimizer.step()\n",
        "    epoch_loss += loss.item()\n",
        "  epoch_loss /= num_updates_per_round\n",
        "  print(f'EPOCH {epoch:03d} loss: {epoch_loss:0.4f}')\n",
        "  epoch_losses.append(epoch_loss)\n"
      ],
      "metadata": {
        "id": "OX1UBX0Gz5t8"
      },
      "execution_count": null,
      "outputs": []
    },
    {
      "cell_type": "markdown",
      "source": [
        "Plot the losses"
      ],
      "metadata": {
        "id": "p3cFiBeoz6zh"
      }
    },
    {
      "cell_type": "code",
      "source": [
        "plt.plot(range(num_rounds), epoch_losses)"
      ],
      "metadata": {
        "id": "s8RRKFnsz438"
      },
      "execution_count": null,
      "outputs": []
    },
    {
      "cell_type": "markdown",
      "source": [
        "## Internal validation\n",
        "\n",
        "Use the data located at `/content/fedbiomed_components/hh/data/holdout` to perform internal validation. What is the average Dice score (and stddev) obtained by your model?"
      ],
      "metadata": {
        "id": "PBp5i8Alz-Oy"
      }
    },
    {
      "cell_type": "code",
      "source": [
        "val_dataset = MedicalFolderDataset(\n",
        "  root='/content/fedbiomed_components/hh/data/holdout',\n",
        "  data_modalities=['T1'],\n",
        "  target_modalities='label',\n",
        "  transform=training_transform,\n",
        "  target_transform=target_transform,\n",
        "  demographics_transform=None)"
      ],
      "metadata": {
        "id": "tPSFWkRA3abQ"
      },
      "execution_count": null,
      "outputs": []
    },
    {
      "cell_type": "code",
      "source": [
        "val_losses = list()\n",
        "model.eval()\n",
        "with torch.no_grad():\n",
        "  for i, (data, target) in enumerate(val_dataset):\n",
        "    img = data[0]['T1']\n",
        "    target = target['label']\n",
        "    logits = model.forward(img.unsqueeze(dim=0))\n",
        "    prediction = F.softmax(logits, dim=1)\n",
        "    loss = loss_fn(prediction, target.unsqueeze(dim=0))\n",
        "    val_losses.append(loss.item())\n",
        "    print(f'VALIDATION sample {i} Dice score {1. - loss.item():0.3f}')\n",
        "  val_losses = np.array(val_losses)\n",
        "  print(f'VALIDATION average Dice score {1. - val_losses.mean():0.3f} std dev {np.std(1. - val_losses):0.4f}')"
      ],
      "metadata": {
        "id": "LCthhpQxuZMu"
      },
      "execution_count": null,
      "outputs": []
    },
    {
      "cell_type": "markdown",
      "source": [
        "## External validation\n",
        "\n",
        "A colleague from the Institute of Psychiatry (IOP) contacts you and wants to use your model. They share a testing dataset with you, so you evaluate the performance of your model on their data.\n",
        "\n",
        "The data is located at `/content/fedbiomed_components/iop/data/holdout`. What is the average Dice score of your model on their test data? Is it different from the internal validation?"
      ],
      "metadata": {
        "id": "FgtOF2m60AhD"
      }
    },
    {
      "cell_type": "code",
      "source": [],
      "metadata": {
        "id": "MrMIby6kulMu"
      },
      "execution_count": null,
      "outputs": []
    },
    {
      "cell_type": "code",
      "source": [],
      "metadata": {
        "id": "HEipKfckul0G"
      },
      "execution_count": null,
      "outputs": []
    },
    {
      "cell_type": "markdown",
      "source": [
        "# Federated learning\n",
        "\n",
        "Both institutes decide to collaborate on training a model together.\n",
        "\n",
        "Howere, there is a **major data privacy problem**. You cannot share your data with the HH hospital, and they cannot share their data with you.\n",
        "\n",
        "Therefore, you need a federated learning approach! You decide to use the [Fed-BioMed](https://fedbiomed.org/) library."
      ],
      "metadata": {
        "id": "QywA7RWG0cpH"
      }
    },
    {
      "cell_type": "markdown",
      "source": [
        "### As the clinical data manager at HH Hospital: integrate the data in Fed-BioMed\n",
        "\n",
        "As the clinical data manager at Hammersmith hospital, the first step is to install Fed-BioMed and prepare some data for federated learning. Here we simulate the steps that would be executed on the hospital server, inside the hospital's protected network.\n",
        "\n",
        "First we create a dataset description file. The most **important** parameter here is `tags`: all of the hospitals that want to collaborate on the same federated experiment must use the same tags. This allows Fed-BioMed to identify local datasets that are part of the same global data pool.\n",
        "\n",
        "Note: there is also a graphical interface for hospitals that is easier to use, but cannot be loaded inside Colab."
      ],
      "metadata": {
        "id": "meKjLUwKn1II"
      }
    },
    {
      "cell_type": "code",
      "source": [
        "%%shell\n",
        "cd /content/fedbiomed_components/hh/data/\n",
        "tee dataset.json << END\n",
        "{\n",
        "  \"data_type\": \"medical-folder\",\n",
        "  \"path\": \"/content/fedbiomed_components/hh/data/train\",\n",
        "  \"dataset_parameters\": {\n",
        "    \"tabular_file\": \"/content/fedbiomed_components/hh/data/train/participants.csv\",\n",
        "    \"index_col\": 14\n",
        "                         },\n",
        "  \"description\": \"empty\",\n",
        "  \"name\": \"ixi site hh\",\n",
        "  \"tags\": \"ixi-train\"\n",
        "}\n",
        "END"
      ],
      "metadata": {
        "id": "-c4NcbqXhey3"
      },
      "execution_count": null,
      "outputs": []
    },
    {
      "cell_type": "markdown",
      "source": [
        "Use the command line interface (CLI) to add a dataset to the Fed-BioMed database."
      ],
      "metadata": {
        "id": "uh33GRs31kds"
      }
    },
    {
      "cell_type": "code",
      "source": [
        "%%shell\n",
        "fedbiomed node --path /content/fedbiomed_components/hh dataset add -f /content/fedbiomed_components/hh/data/dataset.json"
      ],
      "metadata": {
        "id": "9HltuI8phlwP"
      },
      "execution_count": null,
      "outputs": []
    },
    {
      "cell_type": "markdown",
      "source": [
        "### As the clinical data manager at IOP Hospital: integrate the data in Fed-BioMed\n",
        "\n",
        "\n"
      ],
      "metadata": {
        "id": "HxqO6_-RmGzX"
      }
    },
    {
      "cell_type": "code",
      "source": [
        "%%shell\n",
        "cd /content/fedbiomed_components/iop/data/\n",
        "tee dataset.json << END\n",
        "{\n",
        "  \"data_type\": \"medical-folder\",\n",
        "  \"path\": \"/content/fedbiomed_components/iop/data/train\",\n",
        "  \"dataset_parameters\": {\n",
        "    \"tabular_file\": \"/content/fedbiomed_components/iop/data/train/participants.csv\",\n",
        "    \"index_col\": 14\n",
        "                         },\n",
        "  \"description\": \"empty\",\n",
        "  \"name\": \"ixi site iop\",\n",
        "  \"tags\": \"ixi-train\"\n",
        "}\n",
        "END"
      ],
      "metadata": {
        "id": "HjfviqP95ETf"
      },
      "execution_count": null,
      "outputs": []
    },
    {
      "cell_type": "code",
      "source": [
        "%%shell\n",
        "fedbiomed node --path /content/fedbiomed_components/iop dataset add -f /content/fedbiomed_components/iop/data/dataset.json"
      ],
      "metadata": {
        "id": "XTaqWHMf_VKD"
      },
      "execution_count": null,
      "outputs": []
    },
    {
      "cell_type": "markdown",
      "source": [
        "### As the clinical data manager at HH Hospital: Activate Fed-BioMed\n",
        "\n",
        "As the clinical data manager, you need to activate the Fed-BioMed software and leave it in standby, waiting to receive requests for training from the orchestrator.\n",
        "\n",
        "Execute the cell below and wait for the terminal to appear.\n",
        "\n",
        "This terminal is a simulation of the hospital's server, which is hosted on hospital premises and (in theory) well-protected from the outside.\n",
        "\n",
        "Copy/paste the following line in the terminal, then hit `Enter`:\n",
        "\n",
        "```shell\n",
        "fedbiomed node --path /content/fedbiomed_components/hh start\n",
        "```"
      ],
      "metadata": {
        "id": "Z4yfF2fXoJUi"
      }
    },
    {
      "cell_type": "markdown",
      "source": [
        "#### Checkpoint\n",
        "\n",
        "if you ever restart your session, you simply need to restart the nodes with the final `fedbiomed node ... start` command above. There is no need to re-add the datasets."
      ],
      "metadata": {
        "id": "dY5W1wIevWCV"
      }
    },
    {
      "cell_type": "code",
      "source": [
        "%load_ext colabxterm"
      ],
      "metadata": {
        "id": "Qlkl9bEBoir9"
      },
      "execution_count": null,
      "outputs": []
    },
    {
      "cell_type": "code",
      "source": [
        "%xterm"
      ],
      "metadata": {
        "id": "6gDSz8LG-qXy"
      },
      "execution_count": null,
      "outputs": []
    },
    {
      "cell_type": "markdown",
      "source": [
        "When the node starts, you should see the following message appear multiple times:\n",
        "\n",
        "```shell\n",
        "fedbiomed DEBUG - Researcher server is not available, will retry connect in 2 seconds\n",
        "```\n",
        "\n",
        "This is normal: the hospital is ready to work, but we have not given any workload yet."
      ],
      "metadata": {
        "id": "jOju98x2rUFK"
      }
    },
    {
      "cell_type": "markdown",
      "source": [
        "### As the clinical data manager at IOP Hospital: Activate Fed-BioMed\n",
        "\n",
        "\n",
        "```shell\n",
        "fedbiomed node --path /content/fedbiomed_components/iop start\n",
        "```\n",
        "\n"
      ],
      "metadata": {
        "id": "2a-grVYNn6PE"
      }
    },
    {
      "cell_type": "code",
      "source": [
        "%xterm"
      ],
      "metadata": {
        "id": "c0mxtJfLEPlv"
      },
      "execution_count": null,
      "outputs": []
    },
    {
      "cell_type": "markdown",
      "source": [
        "# As the clinical data scientist: define the federated learning experiment\n",
        "\n",
        "We now switch our point of view to the server side.\n",
        "You are now the data scientist who is going to define the FL training and orchestrate it."
      ],
      "metadata": {
        "id": "wN5XhGJRoN68"
      }
    },
    {
      "cell_type": "markdown",
      "source": [
        "### Explore available datasets within the federation\n",
        "\n",
        "Read the documentation for the [Requests](https://fedbiomed.org/latest/developer/api/researcher/requests/#fedbiomed.researcher.requests.Requests) class to figure out which function call can be used to list all the available datasets."
      ],
      "metadata": {
        "id": "8lDjT-OIo7Jf"
      }
    },
    {
      "cell_type": "code",
      "source": [
        "from fedbiomed.researcher.config import config\n",
        "from fedbiomed.researcher.requests import Requests\n",
        "req = Requests(config)\n",
        "federated_data = req.list(verbose=True)"
      ],
      "metadata": {
        "id": "I7J8CToztcGL"
      },
      "execution_count": null,
      "outputs": []
    },
    {
      "cell_type": "code",
      "source": [
        "federated_data"
      ],
      "metadata": {
        "id": "36IqUpUSERjH"
      },
      "execution_count": null,
      "outputs": []
    },
    {
      "cell_type": "markdown",
      "source": [
        "## Create a Training Plan\n",
        "\n",
        "We create a [training plan](https://fedbiomed.org/latest/user-guide/researcher/training-plan/) that incorporates the UNet model.\n",
        "\n",
        "### Define the neural network model\n",
        "\n",
        "Inside the `init_model` function, create a UNet object copied from your code above, and return it.\n",
        "\n",
        "As a bonus, you can use the `model_args` dictionary to make the definition of some parameters more dynamic.\n",
        "\n",
        "### Define the loss function\n",
        "\n",
        "\n",
        "\n",
        "### Define training step\n",
        "\n",
        "Here we take as input one batch of `(data, target)`, train the model and compute the loss function.\n",
        "\n",
        "Note that the MedicalFolderDataset class returns data as a tuple of (images, demographics), where:\n",
        "\n",
        "  - images is a dict of {modality: image} (after image transformations)\n",
        "  - demographics is a dict of {column_name: values} where the column names are taken from the demographics csv file while the target is a dict of {modality: image} (after target transformations).\n",
        "\n",
        "In our case, the modality used is T1 for the input images, while the modality used for the target is label. We also ignore the values of the demographics data during training because the UNet model only takes images as input, but the code provided still shows the recommended way to handle such data."
      ],
      "metadata": {
        "id": "Y6_icE2cuSVe"
      }
    },
    {
      "cell_type": "code",
      "source": [
        "from fedbiomed.common.training_plans import TorchTrainingPlan\n",
        "\n",
        "class UNetTrainingPlan(TorchTrainingPlan):\n",
        "\n",
        "    def init_model(self, model_args):\n",
        "        n_base_filters = model_args.get('base_filters',8)\n",
        "        return # a UNet model as defined in the centralized training\n",
        "\n",
        "    def init_optimizer(self, optimizer_args):\n",
        "        lr = optimizer_args.get('lr', 0.001)\n",
        "        # ! careful: you can access the training model with self.model()\n",
        "        return # an optimizer as defined in the centralized training\n",
        "\n",
        "    def init_dependencies(self):\n",
        "        deps = [\n",
        "            \"from monai.transforms import (Compose, NormalizeIntensity, EnsureChannelFirst, Resize, AsDiscrete)\",\n",
        "            \"from monai.losses.dice import DiceLoss\",\n",
        "            \"import torch.nn as nn\",\n",
        "            'import torch.nn.functional as F',\n",
        "            \"from fedbiomed.common.data import MedicalFolderDataset\",\n",
        "            'import numpy as np',\n",
        "            'from torch.optim import AdamW, SGD',\n",
        "            'from monai.networks.nets import UNet',\n",
        "            'from fedbiomed.common.logger import logger']\n",
        "\n",
        "        return deps\n",
        "\n",
        "    @staticmethod\n",
        "    def get_dice_loss(output, target):\n",
        "        return # a loss function as defined in the centralized training\n",
        "\n",
        "    @staticmethod\n",
        "    def demographics_transform(demographics: dict):\n",
        "        return {}\n",
        "\n",
        "    def training_data(self,  batch_size = 4):\n",
        "    # The training_data creates the Dataloader to be used for training in the general class Torchnn of fedbiomed\n",
        "        common_shape = (24, 24, 32)\n",
        "        training_transform = Compose([EnsureChannelFirst(), Resize(common_shape), NormalizeIntensity(),])\n",
        "        target_transform = Compose([EnsureChannelFirst(), Resize(common_shape), AsDiscrete(to_onehot=2)])\n",
        "\n",
        "        # define the dataset\n",
        "        # ! careful: you can access the path to the dataset with self.dataset_path\n",
        "        dataset = MedicalFolderDataset(...??...)\n",
        "        return DataManager(dataset)\n",
        "\n",
        "\n",
        "    def training_step(self, data, target):\n",
        "        # 1. forward pass\n",
        "        # 2. compute the loss\n",
        "        return # the loss\n",
        "\n",
        "    def testing_step(self, data, target):\n",
        "      # in this case it is exactly the same as the training step"
      ],
      "metadata": {
        "id": "sJucSdyJFGEc"
      },
      "execution_count": null,
      "outputs": []
    },
    {
      "cell_type": "markdown",
      "source": [
        "## Define parameters\n",
        "\n",
        "Here you can define `model_args` and `training_args`, two dictionaries that contain parameters and hyperparameters for training and model definition. This provides a flexible way to explore the hyperparameter space without changing the TrainingPlan, which has potentially been fixed and validated by the clinical partners.\n",
        "\n",
        "Change any of the parameters below to explore the space of hyperparameters. Please be mindful of the limited available resources when changing parameters that may require more computing power, such as base_filters and especially batch_size."
      ],
      "metadata": {
        "id": "1pCP_tAXupyu"
      }
    },
    {
      "cell_type": "code",
      "source": [
        "model_args = {\n",
        "    'base_filters': ??,\n",
        "}\n",
        "\n",
        "training_args = {\n",
        "    'loader_args': { 'batch_size': ??, },\n",
        "    'num_updates': ??,\n",
        "# optional arguments for validation during training loop\n",
        "#    'test_ratio' : 0.1,\n",
        "#    'test_on_global_updates': True,\n",
        "#    'test_on_local_updates': True,\n",
        "}"
      ],
      "metadata": {
        "id": "opXvy_YJFOW6"
      },
      "execution_count": null,
      "outputs": []
    },
    {
      "cell_type": "markdown",
      "source": [
        "## Create a FL experiment\n",
        "\n",
        "Don't forget to set the proper `tags` and choose a suitable [`aggregator`](https://fedbiomed.org/latest/tutorials/pytorch/04-Aggregation_in_Fed-BioMed/)."
      ],
      "metadata": {
        "id": "nQVf4Pvniep9"
      }
    },
    {
      "cell_type": "code",
      "source": [
        "from fedbiomed.researcher.federated_workflows import Experiment\n",
        "from fedbiomed.researcher.aggregators.fedavg import FedAverage\n",
        "\n",
        "exp = Experiment(tags=??,\n",
        "                 model_args=??,\n",
        "                 training_plan_class=??,\n",
        "                 training_args=??,\n",
        "                 round_limit=??,\n",
        "                 aggregator=??,\n",
        "                 tensorboard=True\n",
        "                )\n"
      ],
      "metadata": {
        "id": "SYSNH6B4FkKK"
      },
      "execution_count": null,
      "outputs": []
    },
    {
      "cell_type": "markdown",
      "source": [
        "## Dynamically display loss functions using tensorboard"
      ],
      "metadata": {
        "id": "UUG1nD0jjjxU"
      }
    },
    {
      "cell_type": "code",
      "source": [
        "%load_ext tensorboard"
      ],
      "metadata": {
        "id": "8LDPjO7i5fuf"
      },
      "execution_count": null,
      "outputs": []
    },
    {
      "cell_type": "code",
      "source": [
        "from fedbiomed.researcher.config import config\n",
        "tensorboard_dir = config.vars['TENSORBOARD_RESULTS_DIR']"
      ],
      "metadata": {
        "id": "L0LuDgPI5oSz"
      },
      "execution_count": null,
      "outputs": []
    },
    {
      "cell_type": "code",
      "source": [
        "%tensorboard --logdir \"$tensorboard_dir\""
      ],
      "metadata": {
        "id": "xR8zxtmr5wMn"
      },
      "execution_count": null,
      "outputs": []
    },
    {
      "cell_type": "markdown",
      "source": [
        "## Run the FL training experiment"
      ],
      "metadata": {
        "id": "p29-iA1Ojw8N"
      }
    },
    {
      "cell_type": "code",
      "source": [
        "exp.run()"
      ],
      "metadata": {
        "id": "_1ejK8laKPTU"
      },
      "execution_count": null,
      "outputs": []
    },
    {
      "cell_type": "markdown",
      "source": [
        "# Inference on the final aggregated model\n",
        "\n",
        "The aggregated model can be obtained in the following way:"
      ],
      "metadata": {
        "id": "G61VLOjht0VC"
      }
    },
    {
      "cell_type": "code",
      "source": [
        "aggregated_model = exp.training_plan().model()"
      ],
      "metadata": {
        "id": "FA3HhCf2-JU8"
      },
      "execution_count": null,
      "outputs": []
    },
    {
      "cell_type": "markdown",
      "source": [
        "## Internal validation\n",
        "\n",
        "What is the aggregated model's performance on the HH and IOP holdout datasets?"
      ],
      "metadata": {
        "id": "A6WFZ0f0kVcf"
      }
    },
    {
      "cell_type": "code",
      "source": [
        "common_shape = (48, 48, 64)\n",
        "training_transform = Compose([EnsureChannelFirst(), Resize(common_shape), NormalizeIntensity(),])\n",
        "target_transform = Compose([EnsureChannelFirst(), Resize(common_shape), AsDiscrete(to_onehot=2)])\n",
        "\n",
        "val_dataset_hh = MedicalFolderDataset(\n",
        "    root='/content/fedbiomed_components/hh/data/holdout',\n",
        "    data_modalities=['T1'],\n",
        "    target_modalities='label',\n",
        "    transform=training_transform,\n",
        "    target_transform=target_transform,\n",
        "    demographics_transform=None)"
      ],
      "metadata": {
        "id": "x9tNM_Ix-xeP"
      },
      "execution_count": null,
      "outputs": []
    },
    {
      "cell_type": "code",
      "source": [
        "val_losses = list()\n",
        "aggregated_model.eval()\n",
        "with torch.no_grad():\n",
        "  for i, (data, target) in enumerate(val_dataset_hh):\n",
        "    img = data[0]['T1']\n",
        "    target = target['label']\n",
        "    logits = aggregated_model.forward(img.unsqueeze(dim=0))\n",
        "    prediction = F.softmax(logits, dim=1)\n",
        "    loss = loss_fn(prediction, target.unsqueeze(dim=0))\n",
        "    val_losses.append(loss.item())\n",
        "    print(f'VALIDATION sample {i} Dice score {1. - loss.item():0.3f}')\n",
        "  val_losses = np.array(val_losses)\n",
        "  print(f'VALIDATION average Dice score {1. - val_losses.mean():0.3f} std dev {np.std(1. - val_losses):0.4f}')"
      ],
      "metadata": {
        "id": "m77Kxk_g-JQJ"
      },
      "execution_count": null,
      "outputs": []
    },
    {
      "cell_type": "code",
      "source": [
        "val_dataset_iop = MedicalFolderDataset(\n",
        "    root='/content/fedbiomed_components/iop/data/holdout',\n",
        "    data_modalities=['T1'],\n",
        "    target_modalities='label',\n",
        "    transform=training_transform,\n",
        "    target_transform=target_transform,\n",
        "    demographics_transform=None)"
      ],
      "metadata": {
        "id": "bg5qvtDTwM_F"
      },
      "execution_count": null,
      "outputs": []
    },
    {
      "cell_type": "code",
      "source": [
        "val_losses = list()\n",
        "aggregated_model.eval()\n",
        "with torch.no_grad():\n",
        "  for i, (data, target) in enumerate(val_dataset_iop):\n",
        "    img = data[0]['T1']\n",
        "    target = target['label']\n",
        "    logits = aggregated_model.forward(img.unsqueeze(dim=0))\n",
        "    prediction = F.softmax(logits, dim=1)\n",
        "    loss = loss_fn(prediction, target.unsqueeze(dim=0))\n",
        "    val_losses.append(loss.item())\n",
        "    print(f'VALIDATION sample {i} Dice score {1. - loss.item():0.3f}')\n",
        "  val_losses = np.array(val_losses)\n",
        "  print(f'VALIDATION average Dice score {1. - val_losses.mean():0.3f} std dev {np.std(1. - val_losses):0.4f}')"
      ],
      "metadata": {
        "id": "pNX8QXLNwRLJ"
      },
      "execution_count": null,
      "outputs": []
    },
    {
      "cell_type": "code",
      "source": [
        "import matplotlib.pyplot as plt\n",
        "import numpy as np\n",
        "\n",
        "fig, ax = plt.subplots(1,2, figsize=(8,6))\n",
        "slice_to_plot = 24\n",
        "\n",
        "img_slice = img[..., slice_to_plot].squeeze()\n",
        "\n",
        "ax[0].imshow(img_slice, cmap='bone')\n",
        "label = target[1, ..., slice_to_plot]\n",
        "plot = ax[0].imshow(np.ma.masked_where(\n",
        "                        label < 0.5,\n",
        "                        label), cmap='winter', alpha=0.5, interpolation='none', vmin=0., vmax=1.)\n",
        "ax[0].invert_yaxis()\n",
        "\n",
        "ax[1].imshow(img_slice, cmap='bone')\n",
        "label = prediction[0, 1, ..., slice_to_plot]\n",
        "plot = ax[1].imshow(np.ma.masked_where(\n",
        "                        label < 0.5,\n",
        "                        label), cmap='winter', alpha=0.5, interpolation='none', vmin=0., vmax=1.)\n",
        "ax[1].invert_yaxis()\n",
        "\n",
        "fig.suptitle('Input slice with ground truth overlay')\n",
        "fig.colorbar(plot, ax=ax, location='bottom')"
      ],
      "metadata": {
        "id": "cSPAxMyz-JLc"
      },
      "execution_count": null,
      "outputs": []
    },
    {
      "cell_type": "markdown",
      "source": [
        "## External validation\n",
        "\n",
        "Consider the data stored in `/content/fedbiomed_components/guys/data/holdout`. This is a third dataset from yet another hospital.\n",
        "\n",
        "What is the performance of the aggregated model on this dataset? What is the performance of the original single-center model on this dataset?"
      ],
      "metadata": {
        "id": "cQYznB9lkwTJ"
      }
    },
    {
      "cell_type": "code",
      "source": [
        "external_val_dataset = MedicalFolderDataset(\n",
        "    root='/content/fedbiomed_components/guys/data/holdout',\n",
        "    data_modalities=['T1'],\n",
        "    target_modalities='label',\n",
        "    transform=training_transform,\n",
        "    target_transform=target_transform,\n",
        "    demographics_transform=None)"
      ],
      "metadata": {
        "id": "Zs-Iu_Ee-I1J"
      },
      "execution_count": null,
      "outputs": []
    },
    {
      "cell_type": "code",
      "source": [
        "val_losses = list()\n",
        "aggregated_model.eval()\n",
        "with torch.no_grad():\n",
        "  for i, (data, target) in enumerate(external_val_dataset):\n",
        "    img = data[0]['T1']\n",
        "    target = target['label']\n",
        "    logits = aggregated_model.forward(img.unsqueeze(dim=0))\n",
        "    prediction = F.softmax(logits, dim=1)\n",
        "    loss = loss_fn(prediction, target.unsqueeze(dim=0))\n",
        "    val_losses.append(loss.item())\n",
        "    print(f'VALIDATION sample {i} Dice score {1. - loss.item():0.3f}')\n",
        "  val_losses = np.array(val_losses)\n",
        "  print(f'VALIDATION average Dice score {1. - val_losses.mean():0.3f} std dev {np.std(1. - val_losses):0.4f}')"
      ],
      "metadata": {
        "id": "IP-qAlczvW3J"
      },
      "execution_count": null,
      "outputs": []
    },
    {
      "cell_type": "code",
      "source": [
        "val_losses = list()\n",
        "model.eval()\n",
        "with torch.no_grad():\n",
        "  for i, (data, target) in enumerate(external_val_dataset):\n",
        "    img = data[0]['T1']\n",
        "    target = target['label']\n",
        "    logits = model.forward(img.unsqueeze(dim=0))\n",
        "    prediction = F.softmax(logits, dim=1)\n",
        "    loss = loss_fn(prediction, target.unsqueeze(dim=0))\n",
        "    val_losses.append(loss.item())\n",
        "    print(f'VALIDATION sample {i} Dice score {1. - loss.item():0.3f}')\n",
        "  val_losses = np.array(val_losses)\n",
        "  print(f'VALIDATION average Dice score {1. - val_losses.mean():0.3f} std dev {np.std(1. - val_losses):0.4f}')"
      ],
      "metadata": {
        "id": "_6bbgwbJwlnh"
      },
      "execution_count": null,
      "outputs": []
    },
    {
      "cell_type": "code",
      "source": [],
      "metadata": {
        "id": "W-Ua7ohowq-m"
      },
      "execution_count": null,
      "outputs": []
    }
  ]
}